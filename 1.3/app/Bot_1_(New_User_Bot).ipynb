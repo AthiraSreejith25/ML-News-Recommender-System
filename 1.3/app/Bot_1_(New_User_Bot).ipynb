{
  "cells": [
    {
      "cell_type": "code",
      "execution_count": null,
      "metadata": {
        "ExecuteTime": {
          "end_time": "2021-04-05T13:29:47.104253Z",
          "start_time": "2021-04-05T13:29:46.163444Z"
        },
        "id": "Fz6r-v29wFLC"
      },
      "outputs": [],
      "source": [
        "import pandas as pd                # Pandas is essential for dealing with tabular data structures  \n",
        "import numpy as np                 # Importing numpy for mathematical analysis \n",
        "np.random.seed(30)                 # Generated Pseudo Random Number \n",
        "from scipy import stats            # Used to deal with statistics and probability\n",
        "import datetime as dt              # Importing datetime class to create dates \n",
        "from pymongo import MongoClient    # Used to interact with the Mongo Database i.e, a NO-SQL based databased for storing non-relational data"
      ]
    },
    {
      "cell_type": "code",
      "execution_count": null,
      "metadata": {
        "id": "4D25ySUwwFLH"
      },
      "outputs": [],
      "source": [
        "# Creating a new MongoClient instance to interact with the data storage server # https://mongodb.github.io/node-mongodb-native/api-generated/mongoclient.html\n",
        "client = MongoClient(\"mongodb://localhost:27017/\")      \n",
        "\n",
        "# Extracting the News Recommendor Database from the data server\n",
        "abc = client[\"News_Recommender\"]  "
      ]
    },
    {
      "cell_type": "code",
      "execution_count": null,
      "metadata": {
        "ExecuteTime": {
          "end_time": "2021-04-05T13:29:56.447940Z",
          "start_time": "2021-04-05T13:29:54.506136Z"
        },
        "id": "4H9KqmVhwFLL"
      },
      "outputs": [],
      "source": [
        "# Extracting the articles from the news recommendor \n",
        "articles = abc[\"articles\"] \n",
        "\n",
        "# Converting Article -> List -> CSV dataframe \n",
        "# https://www.w3schools.com/python/ref_string_find.asp\n",
        "corpus_df = pd.DataFrame(list(articles.find())) "
      ]
    },
    {
      "cell_type": "code",
      "execution_count": null,
      "metadata": {
        "ExecuteTime": {
          "end_time": "2021-04-05T13:30:00.805580Z",
          "start_time": "2021-04-05T13:30:00.751384Z"
        },
        "id": "mBvkqJ96wFLN",
        "outputId": "d19f9818-e6ba-442f-f2bd-67c0cbfb31d3"
      },
      "outputs": [
        {
          "output_type": "execute_result",
          "data": {
            "text/plain": [
              "                        _id             Datetime Category Subcategory  \\\n",
              "0  606b292e3c6b2f2a08aad299  2021-01-28 07:35:55   Sports   Badminton   \n",
              "\n",
              "                                            Headline  \\\n",
              "0  Patient pays… almost: Srikanth tries to stay i...   \n",
              "\n",
              "                                             Summary  \\\n",
              "0  Kidambi Srikanth gritted it out and though he ...   \n",
              "\n",
              "                                         Entire_News        Author  \\\n",
              "0  In Test cricket’s season of spectacular stubbo...  Shivani naik   \n",
              "\n",
              "                                           News_Link  Mean_Time article_idx  \n",
              "0  https://indianexpress.com/article/sports/badmi...         65        Sp_0  "
            ],
            "text/html": "<div>\n<style scoped>\n    .dataframe tbody tr th:only-of-type {\n        vertical-align: middle;\n    }\n\n    .dataframe tbody tr th {\n        vertical-align: top;\n    }\n\n    .dataframe thead th {\n        text-align: right;\n    }\n</style>\n<table border=\"1\" class=\"dataframe\">\n  <thead>\n    <tr style=\"text-align: right;\">\n      <th></th>\n      <th>_id</th>\n      <th>Datetime</th>\n      <th>Category</th>\n      <th>Subcategory</th>\n      <th>Headline</th>\n      <th>Summary</th>\n      <th>Entire_News</th>\n      <th>Author</th>\n      <th>News_Link</th>\n      <th>Mean_Time</th>\n      <th>article_idx</th>\n    </tr>\n  </thead>\n  <tbody>\n    <tr>\n      <th>0</th>\n      <td>606b292e3c6b2f2a08aad299</td>\n      <td>2021-01-28 07:35:55</td>\n      <td>Sports</td>\n      <td>Badminton</td>\n      <td>Patient pays… almost: Srikanth tries to stay i...</td>\n      <td>Kidambi Srikanth gritted it out and though he ...</td>\n      <td>In Test cricket’s season of spectacular stubbo...</td>\n      <td>Shivani naik</td>\n      <td>https://indianexpress.com/article/sports/badmi...</td>\n      <td>65</td>\n      <td>Sp_0</td>\n    </tr>\n  </tbody>\n</table>\n</div>"
          },
          "metadata": {},
          "execution_count": 49
        }
      ],
      "source": [
        "# Extracting the row corresponding to the input date and time from the corpus_df i.e, the corpus of news articles\n",
        "corpus_df[corpus_df[\"Datetime\"] == \"2021-01-28 07:35:55\"]"
      ]
    },
    {
      "cell_type": "code",
      "execution_count": null,
      "metadata": {
        "ExecuteTime": {
          "end_time": "2021-04-05T13:30:16.142608Z",
          "start_time": "2021-04-05T13:30:16.124810Z"
        },
        "id": "PPRTqE62wFLQ"
      },
      "outputs": [],
      "source": [
        "# Replacing the category object \"News\" with \"Miscellaneous\" in the Category column of corpus_df dataframe\n",
        "# Reference - https://pandas.pydata.org/docs/reference/api/pandas.DataFrame.replace.html\n",
        "corpus_df['Category'] = corpus_df['Category'].replace(['News'],'Miscellaneous')\n",
        "\n",
        "def modify(corpus_df): \n",
        "\n",
        "    # Setting Mean_Time column for all rows in corpus_df to 0\n",
        "    corpus_df['Mean_Time']= 0\n",
        "\n",
        "    # Defining an empty list for later use\n",
        "    artind=[]\n",
        "\n",
        "    # Assigning empyty value to article id for every row\n",
        "    corpus_df['article_idx']= \"  \"\n",
        "\n",
        "    # Running a loop through every entry/row in the corpus_df table\n",
        "    for i in corpus_df.index:\n",
        "\n",
        "        # For every entry, assign the 1/4th of the length of summary corresponding to that entry to the \"Mean_Time\" of that entry\n",
        "        corpus_df['Mean_Time'][i]= float(len(corpus_df['Summary'][i])/4)\n",
        "\n",
        "        # For every entry in the 'Category' Column, extracting the first two words of that entry, adding entry number to it & appending it to artind list\n",
        "        # https://stackoverflow.com/questions/5234090/how-to-take-the-first-n-items-from-a-generator-or-list \n",
        "        artind.append(str(corpus_df['Category'][i][:2])+'_'+str(i))\n",
        "    \n",
        "    # Replacing the previous article id with the entries in 'artind' list \n",
        "    corpus_df['article_idx']=artind\n",
        "\n",
        "    # Extracting the unique entries in the category column & number of times those entries are repeated and assigning them to 'unique' and 'counts' variable\n",
        "    # https://numpy.org/doc/stable/reference/generated/numpy.unique.html\n",
        "    (unique, counts) = np.unique(corpus_df['Category'], return_counts=True)\n",
        "\n",
        "    # If the length of the 'unique' list is > 10 \n",
        "    if len(unique)>10:\n",
        "\n",
        "        # reverse the order of list of counts i.e, from increasing to decreasing and assign it to 'order' list\n",
        "        order=sorted(list(counts),reverse=True)\n",
        "\n",
        "        # ignore the first 10 elements of the order list and assign it to 'merge' list\n",
        "        merge=order[10:]\n",
        "\n",
        "        # run a loop 'i' to the length of the 'merge' list\n",
        "        for i in range(len(merge)):\n",
        "\n",
        "          # run a loop 'j' to the length of the 'counts' list\n",
        "            for j in range(len(counts)):\n",
        "\n",
        "                # if at any point they are equal\n",
        "                if merge[i]==counts[j]:\n",
        "\n",
        "                    # replace whatever entry in 'Category' column in the corpus with 'Miscellanous' wherever that entry matches with the jth unique entry\n",
        "                    corpus_df['Category']=corpus_df['Category'].replace([unique[j]],'Miscellaneous')\n",
        "\n",
        "    return corpus_df"
      ]
    },
    {
      "cell_type": "code",
      "execution_count": null,
      "metadata": {
        "ExecuteTime": {
          "end_time": "2021-04-05T13:30:36.553129Z",
          "start_time": "2021-04-05T13:30:18.012602Z"
        },
        "id": "vr_rDV9awFLS",
        "outputId": "be29f8ad-4cb4-48a3-e2a8-e47853ef7f4f"
      },
      "outputs": [
        {
          "output_type": "stream",
          "name": "stderr",
          "text": [
            "<ipython-input-20-4151b04be989>:8: SettingWithCopyWarning: \nA value is trying to be set on a copy of a slice from a DataFrame\n\nSee the caveats in the documentation: https://pandas.pydata.org/pandas-docs/stable/user_guide/indexing.html#returning-a-view-versus-a-copy\n  corpus_df['Mean_Time'][i]= float(len(corpus_df['Summary'][i])/4)\n"
          ]
        }
      ],
      "source": [
        "# not able to figure out what this means\n",
        "# Usually you add/remove/update rows and columns in the dataframe, just 'modify()' is quite vague\n",
        "# but I have a guess, it's related to the update method : https://pandas.pydata.org/docs/reference/api/pandas.DataFrame.update.html\n",
        "reform_corpus_df = modify(corpus_df)"
      ]
    },
    {
      "cell_type": "code",
      "execution_count": null,
      "metadata": {
        "ExecuteTime": {
          "end_time": "2021-04-05T13:30:36.589562Z",
          "start_time": "2021-04-05T13:30:36.557308Z"
        },
        "id": "Tnyn8hQFwFLT",
        "outputId": "d4586cea-f540-46d4-86d9-1af2b517ec59"
      },
      "outputs": [
        {
          "output_type": "execute_result",
          "data": {
            "text/plain": [
              "                            _id             Datetime       Category  \\\n",
              "0      606b292e3c6b2f2a08aad299  2021-01-28 07:35:55         Sports   \n",
              "1      606b292e3c6b2f2a08aad29a  2021-01-27 16:51:08         Sports   \n",
              "2      606b292e3c6b2f2a08aad29b  2021-01-27 08:30:22         Sports   \n",
              "3      606b292e3c6b2f2a08aad29c  2021-01-24 19:03:06         Sports   \n",
              "4      606b292e3c6b2f2a08aad29d  2021-01-23 19:58:44         Sports   \n",
              "...                         ...                  ...            ...   \n",
              "22748  606b29323c6b2f2a08ab2b75  2021-02-06 00:17:00  Entertainment   \n",
              "22749  606b29323c6b2f2a08ab2b76  2021-02-03 12:23:00  Entertainment   \n",
              "22750  606b29323c6b2f2a08ab2b77  2021-02-01 23:56:00  Entertainment   \n",
              "22751  606b29323c6b2f2a08ab2b78  2021-01-29 14:28:00  Entertainment   \n",
              "22752  606b29323c6b2f2a08ab2b79  2021-01-28 23:51:00  Entertainment   \n",
              "\n",
              "      Subcategory                                           Headline  \\\n",
              "0       Badminton  Patient pays… almost: Srikanth tries to stay i...   \n",
              "1       Badminton  BWF World Tour Finals: Fighting PV Sindhu lose...   \n",
              "2       Badminton  World Tour Finals Preview: PV Sindhu, recharge...   \n",
              "3       Badminton  Satwiksairaj’s offence gets neutralised by sav...   \n",
              "4       Badminton  Dream run of Indian doubles pairs end with sem...   \n",
              "...           ...                                                ...   \n",
              "22748  television  Bigg Boss 14 February 5, 2021, Written Update:...   \n",
              "22749  television  A Tour Of Shaheer Sheikh And Ruchikaa Kapoor's...   \n",
              "22750  television  Bigg Boss 14: Nikki Tamboli, Rahul Vaidya's Fi...   \n",
              "22751  television  Identify The Comedy Star In This Pic From 28 Y...   \n",
              "22752  television  Bigg Boss 14 January 28, 2021 Written Update: ...   \n",
              "\n",
              "                                                 Summary  \\\n",
              "0      Kidambi Srikanth gritted it out and though he ...   \n",
              "1      This was PV Sindhu's 16th defeat to Tai Tzu Yi...   \n",
              "2      With the Indian having played more matches tha...   \n",
              "3      Satwiksairaj Rankireddy uses big smash to kill...   \n",
              "4      Up against the world number three Thai pair, S...   \n",
              "...                                                  ...   \n",
              "22748  Bigg Boss 14: Devoleena lashed out at Arshi fo...   \n",
              "22749  Pictures from Shaheer and Ruchikaa's swanky ap...   \n",
              "22750  After a war of words, Nikki Tamboli agreed to ...   \n",
              "22751  The young Kapil Sharma in the photo is barely ...   \n",
              "22752  Bigg Boss 14: According to the task, the house...   \n",
              "\n",
              "                                             Entire_News  \\\n",
              "0      In Test cricket’s season of spectacular stubbo...   \n",
              "1      World champion shuttler P V Sindhu went down f...   \n",
              "2      Carolina Marin (50 total) played 24 tournament...   \n",
              "3      One would have to be blind to not figure that ...   \n",
              "4      The Indian mixed doubles pair of Satwiksairaj ...   \n",
              "...                                                  ...   \n",
              "22748  On the 125th day in the Bigg Boss house, Devol...   \n",
              "22749  TV actors Shaheer Sheikh and Ruchikaa Kapoor, ...   \n",
              "22750  Monday's episode of Bigg Boss 14 was fulll of ...   \n",
              "22751  Every now and then, actor-comedian Kapil Sharm...   \n",
              "22752  Rivalry is one of the important factors in the...   \n",
              "\n",
              "                      Author  \\\n",
              "0               Shivani naik   \n",
              "1                        Pti   \n",
              "2               Shivani naik   \n",
              "3               Shivani naik   \n",
              "4                        Pti   \n",
              "...                      ...   \n",
              "22748  Aakanksha Raghuvanshi   \n",
              "22749  Aakanksha Raghuvanshi   \n",
              "22750         Nilanjana Basu   \n",
              "22751         Nilanjana Basu   \n",
              "22752  Aakanksha Raghuvanshi   \n",
              "\n",
              "                                               News_Link  Mean_Time  \\\n",
              "0      https://indianexpress.com/article/sports/badmi...         65   \n",
              "1      https://indianexpress.com/article/sports/badmi...         41   \n",
              "2      https://indianexpress.com/article/sports/badmi...         28   \n",
              "3      https://indianexpress.com/article/sports/badmi...         49   \n",
              "4      https://indianexpress.com/article/sports/badmi...         52   \n",
              "...                                                  ...        ...   \n",
              "22748  https://www.ndtv.com/entertainment/bigg-boss-1...         42   \n",
              "22749  https://www.ndtv.com/entertainment/a-tour-of-s...         21   \n",
              "22750  https://www.ndtv.com/entertainment/bigg-boss-1...         18   \n",
              "22751  https://www.ndtv.com/entertainment/heres-what-...         31   \n",
              "22752  https://www.ndtv.com/entertainment/bigg-boss-1...         33   \n",
              "\n",
              "      article_idx  \n",
              "0            Sp_0  \n",
              "1            Sp_1  \n",
              "2            Sp_2  \n",
              "3            Sp_3  \n",
              "4            Sp_4  \n",
              "...           ...  \n",
              "22748    En_22748  \n",
              "22749    En_22749  \n",
              "22750    En_22750  \n",
              "22751    En_22751  \n",
              "22752    En_22752  \n",
              "\n",
              "[22753 rows x 11 columns]"
            ],
            "text/html": "<div>\n<style scoped>\n    .dataframe tbody tr th:only-of-type {\n        vertical-align: middle;\n    }\n\n    .dataframe tbody tr th {\n        vertical-align: top;\n    }\n\n    .dataframe thead th {\n        text-align: right;\n    }\n</style>\n<table border=\"1\" class=\"dataframe\">\n  <thead>\n    <tr style=\"text-align: right;\">\n      <th></th>\n      <th>_id</th>\n      <th>Datetime</th>\n      <th>Category</th>\n      <th>Subcategory</th>\n      <th>Headline</th>\n      <th>Summary</th>\n      <th>Entire_News</th>\n      <th>Author</th>\n      <th>News_Link</th>\n      <th>Mean_Time</th>\n      <th>article_idx</th>\n    </tr>\n  </thead>\n  <tbody>\n    <tr>\n      <th>0</th>\n      <td>606b292e3c6b2f2a08aad299</td>\n      <td>2021-01-28 07:35:55</td>\n      <td>Sports</td>\n      <td>Badminton</td>\n      <td>Patient pays… almost: Srikanth tries to stay i...</td>\n      <td>Kidambi Srikanth gritted it out and though he ...</td>\n      <td>In Test cricket’s season of spectacular stubbo...</td>\n      <td>Shivani naik</td>\n      <td>https://indianexpress.com/article/sports/badmi...</td>\n      <td>65</td>\n      <td>Sp_0</td>\n    </tr>\n    <tr>\n      <th>1</th>\n      <td>606b292e3c6b2f2a08aad29a</td>\n      <td>2021-01-27 16:51:08</td>\n      <td>Sports</td>\n      <td>Badminton</td>\n      <td>BWF World Tour Finals: Fighting PV Sindhu lose...</td>\n      <td>This was PV Sindhu's 16th defeat to Tai Tzu Yi...</td>\n      <td>World champion shuttler P V Sindhu went down f...</td>\n      <td>Pti</td>\n      <td>https://indianexpress.com/article/sports/badmi...</td>\n      <td>41</td>\n      <td>Sp_1</td>\n    </tr>\n    <tr>\n      <th>2</th>\n      <td>606b292e3c6b2f2a08aad29b</td>\n      <td>2021-01-27 08:30:22</td>\n      <td>Sports</td>\n      <td>Badminton</td>\n      <td>World Tour Finals Preview: PV Sindhu, recharge...</td>\n      <td>With the Indian having played more matches tha...</td>\n      <td>Carolina Marin (50 total) played 24 tournament...</td>\n      <td>Shivani naik</td>\n      <td>https://indianexpress.com/article/sports/badmi...</td>\n      <td>28</td>\n      <td>Sp_2</td>\n    </tr>\n    <tr>\n      <th>3</th>\n      <td>606b292e3c6b2f2a08aad29c</td>\n      <td>2021-01-24 19:03:06</td>\n      <td>Sports</td>\n      <td>Badminton</td>\n      <td>Satwiksairaj’s offence gets neutralised by sav...</td>\n      <td>Satwiksairaj Rankireddy uses big smash to kill...</td>\n      <td>One would have to be blind to not figure that ...</td>\n      <td>Shivani naik</td>\n      <td>https://indianexpress.com/article/sports/badmi...</td>\n      <td>49</td>\n      <td>Sp_3</td>\n    </tr>\n    <tr>\n      <th>4</th>\n      <td>606b292e3c6b2f2a08aad29d</td>\n      <td>2021-01-23 19:58:44</td>\n      <td>Sports</td>\n      <td>Badminton</td>\n      <td>Dream run of Indian doubles pairs end with sem...</td>\n      <td>Up against the world number three Thai pair, S...</td>\n      <td>The Indian mixed doubles pair of Satwiksairaj ...</td>\n      <td>Pti</td>\n      <td>https://indianexpress.com/article/sports/badmi...</td>\n      <td>52</td>\n      <td>Sp_4</td>\n    </tr>\n    <tr>\n      <th>...</th>\n      <td>...</td>\n      <td>...</td>\n      <td>...</td>\n      <td>...</td>\n      <td>...</td>\n      <td>...</td>\n      <td>...</td>\n      <td>...</td>\n      <td>...</td>\n      <td>...</td>\n      <td>...</td>\n    </tr>\n    <tr>\n      <th>22748</th>\n      <td>606b29323c6b2f2a08ab2b75</td>\n      <td>2021-02-06 00:17:00</td>\n      <td>Entertainment</td>\n      <td>television</td>\n      <td>Bigg Boss 14 February 5, 2021, Written Update:...</td>\n      <td>Bigg Boss 14: Devoleena lashed out at Arshi fo...</td>\n      <td>On the 125th day in the Bigg Boss house, Devol...</td>\n      <td>Aakanksha Raghuvanshi</td>\n      <td>https://www.ndtv.com/entertainment/bigg-boss-1...</td>\n      <td>42</td>\n      <td>En_22748</td>\n    </tr>\n    <tr>\n      <th>22749</th>\n      <td>606b29323c6b2f2a08ab2b76</td>\n      <td>2021-02-03 12:23:00</td>\n      <td>Entertainment</td>\n      <td>television</td>\n      <td>A Tour Of Shaheer Sheikh And Ruchikaa Kapoor's...</td>\n      <td>Pictures from Shaheer and Ruchikaa's swanky ap...</td>\n      <td>TV actors Shaheer Sheikh and Ruchikaa Kapoor, ...</td>\n      <td>Aakanksha Raghuvanshi</td>\n      <td>https://www.ndtv.com/entertainment/a-tour-of-s...</td>\n      <td>21</td>\n      <td>En_22749</td>\n    </tr>\n    <tr>\n      <th>22750</th>\n      <td>606b29323c6b2f2a08ab2b77</td>\n      <td>2021-02-01 23:56:00</td>\n      <td>Entertainment</td>\n      <td>television</td>\n      <td>Bigg Boss 14: Nikki Tamboli, Rahul Vaidya's Fi...</td>\n      <td>After a war of words, Nikki Tamboli agreed to ...</td>\n      <td>Monday's episode of Bigg Boss 14 was fulll of ...</td>\n      <td>Nilanjana Basu</td>\n      <td>https://www.ndtv.com/entertainment/bigg-boss-1...</td>\n      <td>18</td>\n      <td>En_22750</td>\n    </tr>\n    <tr>\n      <th>22751</th>\n      <td>606b29323c6b2f2a08ab2b78</td>\n      <td>2021-01-29 14:28:00</td>\n      <td>Entertainment</td>\n      <td>television</td>\n      <td>Identify The Comedy Star In This Pic From 28 Y...</td>\n      <td>The young Kapil Sharma in the photo is barely ...</td>\n      <td>Every now and then, actor-comedian Kapil Sharm...</td>\n      <td>Nilanjana Basu</td>\n      <td>https://www.ndtv.com/entertainment/heres-what-...</td>\n      <td>31</td>\n      <td>En_22751</td>\n    </tr>\n    <tr>\n      <th>22752</th>\n      <td>606b29323c6b2f2a08ab2b79</td>\n      <td>2021-01-28 23:51:00</td>\n      <td>Entertainment</td>\n      <td>television</td>\n      <td>Bigg Boss 14 January 28, 2021 Written Update: ...</td>\n      <td>Bigg Boss 14: According to the task, the house...</td>\n      <td>Rivalry is one of the important factors in the...</td>\n      <td>Aakanksha Raghuvanshi</td>\n      <td>https://www.ndtv.com/entertainment/bigg-boss-1...</td>\n      <td>33</td>\n      <td>En_22752</td>\n    </tr>\n  </tbody>\n</table>\n<p>22753 rows × 11 columns</p>\n</div>"
          },
          "metadata": {},
          "execution_count": 22
        }
      ],
      "source": [
        "# Since the structure of 'reform_corpus_df' is the same as 'corpus_df', I think modify function did nothing. \n",
        "reform_corpus_df"
      ]
    },
    {
      "cell_type": "code",
      "execution_count": null,
      "metadata": {
        "ExecuteTime": {
          "end_time": "2021-04-05T13:30:36.641491Z",
          "start_time": "2021-04-05T13:30:36.593633Z"
        },
        "id": "AXUqFMgSwFLU",
        "outputId": "e390aba3-a430-4da2-be01-ca3dd03acb3a"
      },
      "outputs": [
        {
          "output_type": "execute_result",
          "data": {
            "text/plain": [
              "array(['Sports', 'Business', 'Technology', 'Entertainment',\n",
              "       'Miscellaneous', 'Society', 'India', 'World', 'Lifestyle',\n",
              "       'Education'], dtype=object)"
            ]
          },
          "metadata": {},
          "execution_count": 23
        }
      ],
      "source": [
        "# Extracting the unique values from the modified corpus \n",
        "# .unique returns the unique values in the input data structure but doesn't order when returning\n",
        "# https://pandas.pydata.org/docs/reference/api/pandas.unique.html\n",
        "reform_corpus_df[\"Category\"].unique()"
      ]
    },
    {
      "cell_type": "code",
      "execution_count": null,
      "metadata": {
        "ExecuteTime": {
          "end_time": "2021-04-05T13:30:43.866967Z",
          "start_time": "2021-04-05T13:30:43.862417Z"
        },
        "id": "kCFPHHDfwFLW"
      },
      "outputs": [],
      "source": [
        "# Defining a dictionary to contain all the unique categories obtained above\n",
        "cluster_idx_dict = {1: \"Entertainment\", 2: \"Sports\", 3: \"Technology\", 4: \"Business\", 5: \"World\", 6: \"India\",\n",
        "                    7: \"Society\", 8: \"Education\", 9: \"Lifestyle\", 10: \"Miscellaneous\"}"
      ]
    },
    {
      "cell_type": "code",
      "execution_count": null,
      "metadata": {
        "ExecuteTime": {
          "end_time": "2021-04-05T13:30:57.867347Z",
          "start_time": "2021-04-05T13:30:57.691199Z"
        },
        "id": "xkUpsEHfwFLY",
        "outputId": "cb46bb9d-5dc0-4732-8f36-ce58400d6417"
      },
      "outputs": [
        {
          "output_type": "stream",
          "name": "stdout",
          "text": [
            "Entertainment\nSports\nTechnology\nBusiness\nWorld\nIndia\nSociety\nEducation\nLifestyle\nMiscellaneous\n"
          ]
        }
      ],
      "source": [
        "# Assigning the column data of the earlier corpus to the updated corpus\n",
        "reform_corpus_df = pd.DataFrame(columns = corpus_df.columns)\n",
        "# initializing a list 'frames' for later use\n",
        "frames = list()\n",
        "\n",
        "for i in range(1, 11):\n",
        "    # Assigning the ith value of the dictionary 'cluster_idx_dict' to 'clu' variable\n",
        "    clu = cluster_idx_dict[i]\n",
        "    print(clu)\n",
        "    \n",
        "    frames.append(corpus_df[corpus_df[\"Category\"] == clu].sort_values(by = \"Datetime\", ignore_index = True))\n",
        "reform_corpus_df = pd.concat(frames, keys = [i for i in range(1, 11)], names = [\"clu_idx\", \"art_idx\"])"
      ]
    },
    {
      "cell_type": "code",
      "execution_count": null,
      "metadata": {
        "ExecuteTime": {
          "end_time": "2021-04-05T13:31:08.427763Z",
          "start_time": "2021-04-05T13:31:08.367991Z"
        },
        "id": "qoR2mFqbwFLZ",
        "outputId": "14b18926-2a50-41c1-f590-b709985cb6b9"
      },
      "outputs": [
        {
          "output_type": "execute_result",
          "data": {
            "text/plain": [
              "                                      _id             Datetime       Category  \\\n",
              "clu_idx art_idx                                                                 \n",
              "1       0        606b292f3c6b2f2a08aae1f7  2015-09-04 23:31:00  Entertainment   \n",
              "        1        606b292f3c6b2f2a08aae1f6  2016-08-02 00:32:00  Entertainment   \n",
              "        2        606b292f3c6b2f2a08aae1f5  2016-08-03 08:29:00  Entertainment   \n",
              "        3        606b292f3c6b2f2a08aae1f4  2016-08-03 23:18:00  Entertainment   \n",
              "        4        606b29323c6b2f2a08ab2b4b  2017-05-05 17:04:00  Entertainment   \n",
              "...                                   ...                  ...            ...   \n",
              "10      1724     606b29303c6b2f2a08ab067c  2021-03-16 17:58:00  Miscellaneous   \n",
              "        1725     606b29303c6b2f2a08aafdf5  2021-03-16 21:13:00  Miscellaneous   \n",
              "        1726     606b29303c6b2f2a08aafdf4  2021-03-16 22:45:00  Miscellaneous   \n",
              "        1727     606b29303c6b2f2a08ab067b  2021-03-17 09:16:00  Miscellaneous   \n",
              "        1728     606b29303c6b2f2a08ab06e7  2021-03-17 10:49:00  Miscellaneous   \n",
              "\n",
              "                  Subcategory  \\\n",
              "clu_idx art_idx                 \n",
              "1       0        gogglebox-uk   \n",
              "        1        gogglebox-uk   \n",
              "        2        gogglebox-uk   \n",
              "        3        gogglebox-uk   \n",
              "        4           hollywood   \n",
              "...                       ...   \n",
              "10      1724              NaN   \n",
              "        1725              NaN   \n",
              "        1726              NaN   \n",
              "        1727              NaN   \n",
              "        1728             Cars   \n",
              "\n",
              "                                                          Headline  \\\n",
              "clu_idx art_idx                                                      \n",
              "1       0        The girl who makes you giggle on Gogglebox: He...   \n",
              "        1        Red-faced Gogglebox stars apologise for ‘light...   \n",
              "        2        EXCLUSIVE: 'They are very silly boys!' Goggleb...   \n",
              "        3        Jeremy Corbyn looks like he lives in a squat a...   \n",
              "        4        How Guardians Of The Galaxy Vol 2 Almost Lost ...   \n",
              "...                                                            ...   \n",
              "10      1724     Toddler falls from moving car on busy road in ...   \n",
              "        1725     Fact Check: Viral claim saying all BJP MLAs in...   \n",
              "        1726     Fact Check: This newspaper clipping on hike in...   \n",
              "        1727     Viral video of Bobby Deol's dance moves proves...   \n",
              "        1728     2021 Jeep Wrangler launch in India today, here...   \n",
              "\n",
              "                                                           Summary  \\\n",
              "clu_idx art_idx                                                      \n",
              "1       0        Gogglebox returns to our screens this Friday a...   \n",
              "        1        Umar, 38, Raza, 31, and Baasit Siddiqui, 33, l...   \n",
              "        2        The mother of three Gogglebox stars who joked ...   \n",
              "        3        If ever there was a programme that illustrated...   \n",
              "        4        In Guardians of the Galaxy Vol 2 opening credi...   \n",
              "...                                                            ...   \n",
              "10      1724     In a video that has gone viral on social media...   \n",
              "        1725     A viral post on social media claims that Punja...   \n",
              "        1726     At a time, the Centre is facing flak over high...   \n",
              "        1727     A fan account of Bobby Deol shared a compilati...   \n",
              "        1728     The 2021 Jeep Wrangler is being manufactured a...   \n",
              "\n",
              "                                                       Entire_News  \\\n",
              "clu_idx art_idx                                                      \n",
              "1       0        Across the nation, sofas are being plumped, ke...   \n",
              "        1        The British Asian stars of Gogglebox have apol...   \n",
              "        2        Silly: The mother of the British Asian stars o...   \n",
              "        3        If ever there was a programme that illustrated...   \n",
              "        4        PromotedListen to the latest songs, only on Ji...   \n",
              "...                                                            ...   \n",
              "10      1724     It was nothing short of a shocking moment for ...   \n",
              "        1725     The BJP, which has been facing criticism over ...   \n",
              "        1726     At a time, the Centre is facing flak over high...   \n",
              "        1727     Internet never fails when it comes to serving ...   \n",
              "        1728     The locally-assembled 2021 Jeep Wrangler will ...   \n",
              "\n",
              "                                                            Author  \\\n",
              "clu_idx art_idx                                                      \n",
              "1       0                          By Jan Moir for the Daily Mail    \n",
              "        1        By Abe Hawken and Martin Robinson, Uk Chief Re...   \n",
              "        2                       By Tracey Kandohla For Mailonline    \n",
              "        3                           By Jim Shelley for MailOnline    \n",
              "        4                       Michael Cavna, The Washington Post   \n",
              "...                                                            ...   \n",
              "10      1724                                            Raya ghosh   \n",
              "        1725                                    Dheeshma puzhakkal   \n",
              "        1726                                          Chayan kundu   \n",
              "        1727                                 Krishna priya pallavi   \n",
              "        1728                                           Varun singh   \n",
              "\n",
              "                                                         News_Link  Mean_Time  \\\n",
              "clu_idx art_idx                                                                 \n",
              "1       0        https://www.dailymail.co.uk/debate/article-322...         24   \n",
              "        1        https://www.dailymail.co.uk/news/article-37190...         50   \n",
              "        2        https://www.dailymail.co.uk/news/article-37200...         46   \n",
              "        3        https://www.dailymail.co.uk/tvshowbiz/article-...         46   \n",
              "        4        https://www.ndtv.com/entertainment/how-guardia...         51   \n",
              "...                                                            ...        ...   \n",
              "10      1724     https://www.indiatoday.in/trending-news/story/...         30   \n",
              "        1725     https://www.indiatoday.in/fact-check/story/fac...         43   \n",
              "        1726     https://www.indiatoday.in/fact-check/story/fac...         39   \n",
              "        1727     https://www.indiatoday.in/trending-news/story/...         36   \n",
              "        1728     https://www.indiatoday.in/auto/cars/story/2021...         25   \n",
              "\n",
              "                article_idx  \n",
              "clu_idx art_idx              \n",
              "1       0           En_3934  \n",
              "        1           En_3933  \n",
              "        2           En_3932  \n",
              "        3           En_3931  \n",
              "        4          En_22706  \n",
              "...                     ...  \n",
              "10      1724       Tr_13283  \n",
              "        1725       Fa_11100  \n",
              "        1726       Fa_11099  \n",
              "        1727       Tr_13282  \n",
              "        1728       Au_13390  \n",
              "\n",
              "[22753 rows x 11 columns]"
            ],
            "text/html": "<div>\n<style scoped>\n    .dataframe tbody tr th:only-of-type {\n        vertical-align: middle;\n    }\n\n    .dataframe tbody tr th {\n        vertical-align: top;\n    }\n\n    .dataframe thead th {\n        text-align: right;\n    }\n</style>\n<table border=\"1\" class=\"dataframe\">\n  <thead>\n    <tr style=\"text-align: right;\">\n      <th></th>\n      <th></th>\n      <th>_id</th>\n      <th>Datetime</th>\n      <th>Category</th>\n      <th>Subcategory</th>\n      <th>Headline</th>\n      <th>Summary</th>\n      <th>Entire_News</th>\n      <th>Author</th>\n      <th>News_Link</th>\n      <th>Mean_Time</th>\n      <th>article_idx</th>\n    </tr>\n    <tr>\n      <th>clu_idx</th>\n      <th>art_idx</th>\n      <th></th>\n      <th></th>\n      <th></th>\n      <th></th>\n      <th></th>\n      <th></th>\n      <th></th>\n      <th></th>\n      <th></th>\n      <th></th>\n      <th></th>\n    </tr>\n  </thead>\n  <tbody>\n    <tr>\n      <th rowspan=\"5\" valign=\"top\">1</th>\n      <th>0</th>\n      <td>606b292f3c6b2f2a08aae1f7</td>\n      <td>2015-09-04 23:31:00</td>\n      <td>Entertainment</td>\n      <td>gogglebox-uk</td>\n      <td>The girl who makes you giggle on Gogglebox: He...</td>\n      <td>Gogglebox returns to our screens this Friday a...</td>\n      <td>Across the nation, sofas are being plumped, ke...</td>\n      <td>By Jan Moir for the Daily Mail</td>\n      <td>https://www.dailymail.co.uk/debate/article-322...</td>\n      <td>24</td>\n      <td>En_3934</td>\n    </tr>\n    <tr>\n      <th>1</th>\n      <td>606b292f3c6b2f2a08aae1f6</td>\n      <td>2016-08-02 00:32:00</td>\n      <td>Entertainment</td>\n      <td>gogglebox-uk</td>\n      <td>Red-faced Gogglebox stars apologise for ‘light...</td>\n      <td>Umar, 38, Raza, 31, and Baasit Siddiqui, 33, l...</td>\n      <td>The British Asian stars of Gogglebox have apol...</td>\n      <td>By Abe Hawken and Martin Robinson, Uk Chief Re...</td>\n      <td>https://www.dailymail.co.uk/news/article-37190...</td>\n      <td>50</td>\n      <td>En_3933</td>\n    </tr>\n    <tr>\n      <th>2</th>\n      <td>606b292f3c6b2f2a08aae1f5</td>\n      <td>2016-08-03 08:29:00</td>\n      <td>Entertainment</td>\n      <td>gogglebox-uk</td>\n      <td>EXCLUSIVE: 'They are very silly boys!' Goggleb...</td>\n      <td>The mother of three Gogglebox stars who joked ...</td>\n      <td>Silly: The mother of the British Asian stars o...</td>\n      <td>By Tracey Kandohla For Mailonline</td>\n      <td>https://www.dailymail.co.uk/news/article-37200...</td>\n      <td>46</td>\n      <td>En_3932</td>\n    </tr>\n    <tr>\n      <th>3</th>\n      <td>606b292f3c6b2f2a08aae1f4</td>\n      <td>2016-08-03 23:18:00</td>\n      <td>Entertainment</td>\n      <td>gogglebox-uk</td>\n      <td>Jeremy Corbyn looks like he lives in a squat a...</td>\n      <td>If ever there was a programme that illustrated...</td>\n      <td>If ever there was a programme that illustrated...</td>\n      <td>By Jim Shelley for MailOnline</td>\n      <td>https://www.dailymail.co.uk/tvshowbiz/article-...</td>\n      <td>46</td>\n      <td>En_3931</td>\n    </tr>\n    <tr>\n      <th>4</th>\n      <td>606b29323c6b2f2a08ab2b4b</td>\n      <td>2017-05-05 17:04:00</td>\n      <td>Entertainment</td>\n      <td>hollywood</td>\n      <td>How Guardians Of The Galaxy Vol 2 Almost Lost ...</td>\n      <td>In Guardians of the Galaxy Vol 2 opening credi...</td>\n      <td>PromotedListen to the latest songs, only on Ji...</td>\n      <td>Michael Cavna, The Washington Post</td>\n      <td>https://www.ndtv.com/entertainment/how-guardia...</td>\n      <td>51</td>\n      <td>En_22706</td>\n    </tr>\n    <tr>\n      <th>...</th>\n      <th>...</th>\n      <td>...</td>\n      <td>...</td>\n      <td>...</td>\n      <td>...</td>\n      <td>...</td>\n      <td>...</td>\n      <td>...</td>\n      <td>...</td>\n      <td>...</td>\n      <td>...</td>\n      <td>...</td>\n    </tr>\n    <tr>\n      <th rowspan=\"5\" valign=\"top\">10</th>\n      <th>1724</th>\n      <td>606b29303c6b2f2a08ab067c</td>\n      <td>2021-03-16 17:58:00</td>\n      <td>Miscellaneous</td>\n      <td>NaN</td>\n      <td>Toddler falls from moving car on busy road in ...</td>\n      <td>In a video that has gone viral on social media...</td>\n      <td>It was nothing short of a shocking moment for ...</td>\n      <td>Raya ghosh</td>\n      <td>https://www.indiatoday.in/trending-news/story/...</td>\n      <td>30</td>\n      <td>Tr_13283</td>\n    </tr>\n    <tr>\n      <th>1725</th>\n      <td>606b29303c6b2f2a08aafdf5</td>\n      <td>2021-03-16 21:13:00</td>\n      <td>Miscellaneous</td>\n      <td>NaN</td>\n      <td>Fact Check: Viral claim saying all BJP MLAs in...</td>\n      <td>A viral post on social media claims that Punja...</td>\n      <td>The BJP, which has been facing criticism over ...</td>\n      <td>Dheeshma puzhakkal</td>\n      <td>https://www.indiatoday.in/fact-check/story/fac...</td>\n      <td>43</td>\n      <td>Fa_11100</td>\n    </tr>\n    <tr>\n      <th>1726</th>\n      <td>606b29303c6b2f2a08aafdf4</td>\n      <td>2021-03-16 22:45:00</td>\n      <td>Miscellaneous</td>\n      <td>NaN</td>\n      <td>Fact Check: This newspaper clipping on hike in...</td>\n      <td>At a time, the Centre is facing flak over high...</td>\n      <td>At a time, the Centre is facing flak over high...</td>\n      <td>Chayan kundu</td>\n      <td>https://www.indiatoday.in/fact-check/story/fac...</td>\n      <td>39</td>\n      <td>Fa_11099</td>\n    </tr>\n    <tr>\n      <th>1727</th>\n      <td>606b29303c6b2f2a08ab067b</td>\n      <td>2021-03-17 09:16:00</td>\n      <td>Miscellaneous</td>\n      <td>NaN</td>\n      <td>Viral video of Bobby Deol's dance moves proves...</td>\n      <td>A fan account of Bobby Deol shared a compilati...</td>\n      <td>Internet never fails when it comes to serving ...</td>\n      <td>Krishna priya pallavi</td>\n      <td>https://www.indiatoday.in/trending-news/story/...</td>\n      <td>36</td>\n      <td>Tr_13282</td>\n    </tr>\n    <tr>\n      <th>1728</th>\n      <td>606b29303c6b2f2a08ab06e7</td>\n      <td>2021-03-17 10:49:00</td>\n      <td>Miscellaneous</td>\n      <td>Cars</td>\n      <td>2021 Jeep Wrangler launch in India today, here...</td>\n      <td>The 2021 Jeep Wrangler is being manufactured a...</td>\n      <td>The locally-assembled 2021 Jeep Wrangler will ...</td>\n      <td>Varun singh</td>\n      <td>https://www.indiatoday.in/auto/cars/story/2021...</td>\n      <td>25</td>\n      <td>Au_13390</td>\n    </tr>\n  </tbody>\n</table>\n<p>22753 rows × 11 columns</p>\n</div>"
          },
          "metadata": {},
          "execution_count": 26
        }
      ],
      "source": [
        "reform_corpus_df"
      ]
    },
    {
      "cell_type": "markdown",
      "metadata": {
        "id": "kvvB56oxwFLb"
      },
      "source": [
        "# Bot-1 (New-User Bot)"
      ]
    },
    {
      "cell_type": "code",
      "execution_count": null,
      "metadata": {
        "ExecuteTime": {
          "end_time": "2021-04-05T13:32:00.342528Z",
          "start_time": "2021-04-05T13:32:00.327660Z"
        },
        "id": "8ItO1koZwFLd"
      },
      "outputs": [],
      "source": [
        "time_resol_set = 3600\n",
        "dt_wt = -0.5/time_resol_set\n",
        "rat_wt = 1.2\n",
        "def bot1baseScoring(dt_corpus_df, user_rating_df):\n",
        "    avg_art_rat = user_rating_df[dt_corpus_df.index].sum(axis = 0)\n",
        "    time_now = dt.datetime(2021, 3, 17).timestamp() # Temporarily\n",
        "    # time_now = dt.datetime.now().timestamp()        Actually (Permanently)\n",
        "    if type(dt_corpus_df) == pd.core.series.Series:\n",
        "        dt_series = pd.Series([time_now]*len(dt_corpus_df), index = dt_corpus_df.index, name = \"Time_Now\") - pd.to_datetime(dt_corpus_df).apply(dt.datetime.timestamp)\n",
        "    else:\n",
        "        dt_series = pd.Series([time_now]*len(dt_corpus_df), index = dt_corpus_df.index, name = \"Time_Now\") - pd.to_datetime(dt_corpus_df.Datetime).apply(dt.datetime.timestamp)\n",
        "    score_df = dt_wt*dt_series + rat_wt*avg_art_rat\n",
        "    max_idx_list = list()\n",
        "    max_score_list = list()\n",
        "    for clu_id, clu_df in score_df.groupby(level = \"clu_idx\"):\n",
        "        max_idx = clu_df.idxmax()\n",
        "        max_idx_list.append(max_idx)\n",
        "        max_score_list.append(clu_df[max_idx])\n",
        "    new_user_base_recomm = pd.Series(max_score_list, index = max_idx_list, name = \"Max_Scores\", dtype = \"float64\").sort_values(ascending=False)\n",
        "    return new_user_base_recomm.index"
      ]
    },
    {
      "cell_type": "markdown",
      "metadata": {
        "id": "OGe4_yyawFLe"
      },
      "source": [
        "## Bot-1 Trial Run"
      ]
    },
    {
      "cell_type": "code",
      "execution_count": null,
      "metadata": {
        "ExecuteTime": {
          "end_time": "2021-04-05T13:32:34.538259Z",
          "start_time": "2021-04-05T13:32:25.916493Z"
        },
        "id": "GZ8f6brswFLe"
      },
      "outputs": [],
      "source": [
        "trial_user_rating_df = pd.DataFrame([[np.random.randint(-1, 2) for i in range(len(reform_corpus_df))] for user in range(50)], columns = reform_corpus_df.index)"
      ]
    },
    {
      "cell_type": "code",
      "execution_count": null,
      "metadata": {
        "ExecuteTime": {
          "end_time": "2021-04-05T13:32:36.518822Z",
          "start_time": "2021-04-05T13:32:36.451248Z"
        },
        "id": "rPkCkzUfwFLe",
        "outputId": "2096bc88-3a81-42b7-f16c-146a32e5ef13"
      },
      "outputs": [
        {
          "output_type": "execute_result",
          "data": {
            "text/plain": [
              "clu_idx   1                                                ...   10            \\\n",
              "art_idx 0    1    2    3    4    5    6    7    8    9     ... 1719 1720 1721   \n",
              "0          0    0    0    0   -1   -1    1    0    0    1  ...   -1    1   -1   \n",
              "1         -1   -1    0    1    0    0    1    1    1   -1  ...   -1    1   -1   \n",
              "2          0    1   -1   -1    1    0   -1   -1    0   -1  ...    1    1    0   \n",
              "3         -1    0    1    1    0   -1    1    0    1    0  ...    0    0   -1   \n",
              "4          0   -1    0   -1    1   -1   -1   -1   -1    1  ...   -1    0    0   \n",
              "5         -1    0    1   -1   -1    0   -1   -1    0   -1  ...    1    0   -1   \n",
              "6          1    1   -1    0    0    1   -1   -1   -1    0  ...   -1    0    1   \n",
              "7          1    0   -1    1    1    0   -1    0    0    1  ...    0    1    1   \n",
              "8          0   -1   -1    1   -1   -1    0    0    1    0  ...    0    1    1   \n",
              "9          0    1   -1    0    0    0   -1    0   -1   -1  ...   -1    0   -1   \n",
              "10        -1    1    0   -1    1    0    1    0    1    0  ...    1    0    0   \n",
              "11         1   -1   -1    0    0   -1    0    0    0    0  ...    1    1    0   \n",
              "12         0   -1    0    1    0   -1    0    1   -1   -1  ...    1    0   -1   \n",
              "13         1   -1   -1    1   -1    0    0    0    0    0  ...    0    1   -1   \n",
              "14         1    1    0    0    1   -1    0    1   -1   -1  ...    0   -1   -1   \n",
              "15         1   -1    0    0    0    0    0   -1    1   -1  ...    1    1   -1   \n",
              "16         1    1    0   -1    0   -1    0    0    0    1  ...    1    0    1   \n",
              "17         1   -1    0   -1    0    0    0    0    0   -1  ...    1   -1    1   \n",
              "18         0    1    0   -1    1    1    1    0   -1   -1  ...    0    0    1   \n",
              "19         1    0    0   -1   -1    1    0   -1    0   -1  ...    0    0    0   \n",
              "20         0   -1    1    0   -1    1    1    0   -1    1  ...    0    1    1   \n",
              "21        -1   -1   -1    0   -1   -1    1   -1    1    1  ...   -1    1   -1   \n",
              "22        -1    1    0    1    0    1   -1   -1   -1    0  ...    0    1    0   \n",
              "23        -1   -1   -1   -1    1    1    0    0    1   -1  ...    1   -1    1   \n",
              "24        -1    0    0    0    0   -1    0   -1    0    0  ...    0    1   -1   \n",
              "25         1   -1   -1    1   -1   -1    0    0   -1    0  ...   -1   -1   -1   \n",
              "26        -1   -1    0    0   -1   -1    1    1    0   -1  ...   -1    1    1   \n",
              "27        -1   -1    0    1    0    0    1    0    0   -1  ...    1    1   -1   \n",
              "28         0    0    0   -1   -1    1    1   -1    0    1  ...    1   -1   -1   \n",
              "29         0    1   -1    0    0   -1    0   -1    0    1  ...    0    0    1   \n",
              "30         1    0   -1   -1   -1    0   -1    1    0    1  ...   -1    1    0   \n",
              "31         1   -1    1    0    1   -1    0    1    0   -1  ...   -1    0    1   \n",
              "32         0   -1   -1    0   -1    1   -1    0   -1    1  ...   -1   -1   -1   \n",
              "33        -1    0   -1    0    1    0    0    1    0    0  ...    1    0    0   \n",
              "34         1   -1    1    1    1    1    1    1    1   -1  ...   -1   -1   -1   \n",
              "35         0    1    1    0    0   -1    0    1    0   -1  ...    1    1    1   \n",
              "36         0    1   -1   -1    0    0    1   -1   -1    1  ...   -1    0   -1   \n",
              "37        -1    1   -1   -1   -1    1    0    1    0   -1  ...    0    1   -1   \n",
              "38         1    1    1    1    0   -1    0    1    0    0  ...    0    1    1   \n",
              "39         1   -1   -1    1   -1    0    1    1    0    0  ...   -1   -1   -1   \n",
              "40         1    0    0    1    1    0    1    1    1    1  ...    1    1    1   \n",
              "41        -1   -1    0   -1    1    1   -1   -1    0    0  ...   -1    0    0   \n",
              "42         1   -1    0    0   -1    1    1    1    0   -1  ...    0    0    1   \n",
              "43         1    1    1   -1    0    0   -1    0    1    0  ...   -1   -1    1   \n",
              "44        -1    1    0   -1    0    0    1   -1    1    0  ...   -1   -1    0   \n",
              "45         0   -1   -1    0    0    0    1    0   -1   -1  ...    0    0    1   \n",
              "46        -1    1    0    0   -1   -1    1   -1    1    0  ...    1    0   -1   \n",
              "47        -1    0   -1   -1    1    0    0    1   -1    1  ...    0    0    0   \n",
              "48         0   -1    0    1   -1    0    1    0    1   -1  ...    1    1    1   \n",
              "49         0    1    0    1    1    0    1    1    1   -1  ...    1    1    1   \n",
              "\n",
              "clu_idx                                     \n",
              "art_idx 1722 1723 1724 1725 1726 1727 1728  \n",
              "0         -1    0    1    1    1    0    0  \n",
              "1         -1    0    0    0   -1    0    0  \n",
              "2          1    1    0    1    1    1    0  \n",
              "3          0    1    0   -1    1    1    0  \n",
              "4          1    1    0    1   -1    1    0  \n",
              "5          1   -1    0   -1   -1   -1    0  \n",
              "6          1    0    0   -1    0   -1    1  \n",
              "7          0    0    0    1    1    1    0  \n",
              "8         -1   -1    0    0    0    1   -1  \n",
              "9          1    1    0    1   -1    1    1  \n",
              "10         1   -1    1   -1    1   -1   -1  \n",
              "11         0    1    0    1   -1    1   -1  \n",
              "12         1    0   -1   -1    0    0    0  \n",
              "13        -1   -1    1    0    0    0    1  \n",
              "14        -1    0    0   -1    0    0    1  \n",
              "15         0   -1    0    1    0    1    0  \n",
              "16         1    1    0    1    0    0   -1  \n",
              "17        -1    0   -1    1    1   -1    1  \n",
              "18        -1    1    1    0    0    0    1  \n",
              "19         0    1    0   -1   -1   -1    1  \n",
              "20         0    0    0   -1    0    1   -1  \n",
              "21         1   -1    1    0    1   -1    0  \n",
              "22         0    1    1   -1   -1    1    1  \n",
              "23         0    1   -1   -1    1   -1    1  \n",
              "24        -1    1    1   -1   -1    1    0  \n",
              "25         0   -1    1    1   -1    1    0  \n",
              "26        -1   -1   -1    1    1    0    1  \n",
              "27        -1   -1    0   -1   -1   -1    1  \n",
              "28         0   -1   -1   -1    1   -1    1  \n",
              "29        -1   -1    1    1    0    0   -1  \n",
              "30         0    1    1    0   -1    0    1  \n",
              "31         1    0   -1    0   -1    1    1  \n",
              "32        -1    0    1   -1   -1    1    0  \n",
              "33        -1    1    1    0    1   -1   -1  \n",
              "34         1    0   -1    1    0    1    0  \n",
              "35         0    1   -1   -1   -1   -1   -1  \n",
              "36         1    1   -1   -1    0   -1    1  \n",
              "37        -1    1   -1    1    0    0   -1  \n",
              "38         0   -1    0    1   -1    0   -1  \n",
              "39        -1   -1   -1   -1    0    1    0  \n",
              "40         0   -1    0    0    0   -1    1  \n",
              "41         0   -1   -1   -1    1    0    0  \n",
              "42        -1    1    0   -1    1   -1   -1  \n",
              "43        -1    1    0    1    0   -1    1  \n",
              "44         1    1    0    0   -1    1   -1  \n",
              "45         1    1    1    1    0   -1    0  \n",
              "46         1    1   -1   -1    1   -1   -1  \n",
              "47         0    0    0   -1   -1   -1   -1  \n",
              "48         0    0    0    1    1   -1   -1  \n",
              "49        -1    0    0    0    1    0    1  \n",
              "\n",
              "[50 rows x 22753 columns]"
            ],
            "text/html": "<div>\n<style scoped>\n    .dataframe tbody tr th:only-of-type {\n        vertical-align: middle;\n    }\n\n    .dataframe tbody tr th {\n        vertical-align: top;\n    }\n\n    .dataframe thead tr th {\n        text-align: left;\n    }\n</style>\n<table border=\"1\" class=\"dataframe\">\n  <thead>\n    <tr>\n      <th>clu_idx</th>\n      <th colspan=\"10\" halign=\"left\">1</th>\n      <th>...</th>\n      <th colspan=\"10\" halign=\"left\">10</th>\n    </tr>\n    <tr>\n      <th>art_idx</th>\n      <th>0</th>\n      <th>1</th>\n      <th>2</th>\n      <th>3</th>\n      <th>4</th>\n      <th>5</th>\n      <th>6</th>\n      <th>7</th>\n      <th>8</th>\n      <th>9</th>\n      <th>...</th>\n      <th>1719</th>\n      <th>1720</th>\n      <th>1721</th>\n      <th>1722</th>\n      <th>1723</th>\n      <th>1724</th>\n      <th>1725</th>\n      <th>1726</th>\n      <th>1727</th>\n      <th>1728</th>\n    </tr>\n  </thead>\n  <tbody>\n    <tr>\n      <th>0</th>\n      <td>0</td>\n      <td>0</td>\n      <td>0</td>\n      <td>0</td>\n      <td>-1</td>\n      <td>-1</td>\n      <td>1</td>\n      <td>0</td>\n      <td>0</td>\n      <td>1</td>\n      <td>...</td>\n      <td>-1</td>\n      <td>1</td>\n      <td>-1</td>\n      <td>-1</td>\n      <td>0</td>\n      <td>1</td>\n      <td>1</td>\n      <td>1</td>\n      <td>0</td>\n      <td>0</td>\n    </tr>\n    <tr>\n      <th>1</th>\n      <td>-1</td>\n      <td>-1</td>\n      <td>0</td>\n      <td>1</td>\n      <td>0</td>\n      <td>0</td>\n      <td>1</td>\n      <td>1</td>\n      <td>1</td>\n      <td>-1</td>\n      <td>...</td>\n      <td>-1</td>\n      <td>1</td>\n      <td>-1</td>\n      <td>-1</td>\n      <td>0</td>\n      <td>0</td>\n      <td>0</td>\n      <td>-1</td>\n      <td>0</td>\n      <td>0</td>\n    </tr>\n    <tr>\n      <th>2</th>\n      <td>0</td>\n      <td>1</td>\n      <td>-1</td>\n      <td>-1</td>\n      <td>1</td>\n      <td>0</td>\n      <td>-1</td>\n      <td>-1</td>\n      <td>0</td>\n      <td>-1</td>\n      <td>...</td>\n      <td>1</td>\n      <td>1</td>\n      <td>0</td>\n      <td>1</td>\n      <td>1</td>\n      <td>0</td>\n      <td>1</td>\n      <td>1</td>\n      <td>1</td>\n      <td>0</td>\n    </tr>\n    <tr>\n      <th>3</th>\n      <td>-1</td>\n      <td>0</td>\n      <td>1</td>\n      <td>1</td>\n      <td>0</td>\n      <td>-1</td>\n      <td>1</td>\n      <td>0</td>\n      <td>1</td>\n      <td>0</td>\n      <td>...</td>\n      <td>0</td>\n      <td>0</td>\n      <td>-1</td>\n      <td>0</td>\n      <td>1</td>\n      <td>0</td>\n      <td>-1</td>\n      <td>1</td>\n      <td>1</td>\n      <td>0</td>\n    </tr>\n    <tr>\n      <th>4</th>\n      <td>0</td>\n      <td>-1</td>\n      <td>0</td>\n      <td>-1</td>\n      <td>1</td>\n      <td>-1</td>\n      <td>-1</td>\n      <td>-1</td>\n      <td>-1</td>\n      <td>1</td>\n      <td>...</td>\n      <td>-1</td>\n      <td>0</td>\n      <td>0</td>\n      <td>1</td>\n      <td>1</td>\n      <td>0</td>\n      <td>1</td>\n      <td>-1</td>\n      <td>1</td>\n      <td>0</td>\n    </tr>\n    <tr>\n      <th>5</th>\n      <td>-1</td>\n      <td>0</td>\n      <td>1</td>\n      <td>-1</td>\n      <td>-1</td>\n      <td>0</td>\n      <td>-1</td>\n      <td>-1</td>\n      <td>0</td>\n      <td>-1</td>\n      <td>...</td>\n      <td>1</td>\n      <td>0</td>\n      <td>-1</td>\n      <td>1</td>\n      <td>-1</td>\n      <td>0</td>\n      <td>-1</td>\n      <td>-1</td>\n      <td>-1</td>\n      <td>0</td>\n    </tr>\n    <tr>\n      <th>6</th>\n      <td>1</td>\n      <td>1</td>\n      <td>-1</td>\n      <td>0</td>\n      <td>0</td>\n      <td>1</td>\n      <td>-1</td>\n      <td>-1</td>\n      <td>-1</td>\n      <td>0</td>\n      <td>...</td>\n      <td>-1</td>\n      <td>0</td>\n      <td>1</td>\n      <td>1</td>\n      <td>0</td>\n      <td>0</td>\n      <td>-1</td>\n      <td>0</td>\n      <td>-1</td>\n      <td>1</td>\n    </tr>\n    <tr>\n      <th>7</th>\n      <td>1</td>\n      <td>0</td>\n      <td>-1</td>\n      <td>1</td>\n      <td>1</td>\n      <td>0</td>\n      <td>-1</td>\n      <td>0</td>\n      <td>0</td>\n      <td>1</td>\n      <td>...</td>\n      <td>0</td>\n      <td>1</td>\n      <td>1</td>\n      <td>0</td>\n      <td>0</td>\n      <td>0</td>\n      <td>1</td>\n      <td>1</td>\n      <td>1</td>\n      <td>0</td>\n    </tr>\n    <tr>\n      <th>8</th>\n      <td>0</td>\n      <td>-1</td>\n      <td>-1</td>\n      <td>1</td>\n      <td>-1</td>\n      <td>-1</td>\n      <td>0</td>\n      <td>0</td>\n      <td>1</td>\n      <td>0</td>\n      <td>...</td>\n      <td>0</td>\n      <td>1</td>\n      <td>1</td>\n      <td>-1</td>\n      <td>-1</td>\n      <td>0</td>\n      <td>0</td>\n      <td>0</td>\n      <td>1</td>\n      <td>-1</td>\n    </tr>\n    <tr>\n      <th>9</th>\n      <td>0</td>\n      <td>1</td>\n      <td>-1</td>\n      <td>0</td>\n      <td>0</td>\n      <td>0</td>\n      <td>-1</td>\n      <td>0</td>\n      <td>-1</td>\n      <td>-1</td>\n      <td>...</td>\n      <td>-1</td>\n      <td>0</td>\n      <td>-1</td>\n      <td>1</td>\n      <td>1</td>\n      <td>0</td>\n      <td>1</td>\n      <td>-1</td>\n      <td>1</td>\n      <td>1</td>\n    </tr>\n    <tr>\n      <th>10</th>\n      <td>-1</td>\n      <td>1</td>\n      <td>0</td>\n      <td>-1</td>\n      <td>1</td>\n      <td>0</td>\n      <td>1</td>\n      <td>0</td>\n      <td>1</td>\n      <td>0</td>\n      <td>...</td>\n      <td>1</td>\n      <td>0</td>\n      <td>0</td>\n      <td>1</td>\n      <td>-1</td>\n      <td>1</td>\n      <td>-1</td>\n      <td>1</td>\n      <td>-1</td>\n      <td>-1</td>\n    </tr>\n    <tr>\n      <th>11</th>\n      <td>1</td>\n      <td>-1</td>\n      <td>-1</td>\n      <td>0</td>\n      <td>0</td>\n      <td>-1</td>\n      <td>0</td>\n      <td>0</td>\n      <td>0</td>\n      <td>0</td>\n      <td>...</td>\n      <td>1</td>\n      <td>1</td>\n      <td>0</td>\n      <td>0</td>\n      <td>1</td>\n      <td>0</td>\n      <td>1</td>\n      <td>-1</td>\n      <td>1</td>\n      <td>-1</td>\n    </tr>\n    <tr>\n      <th>12</th>\n      <td>0</td>\n      <td>-1</td>\n      <td>0</td>\n      <td>1</td>\n      <td>0</td>\n      <td>-1</td>\n      <td>0</td>\n      <td>1</td>\n      <td>-1</td>\n      <td>-1</td>\n      <td>...</td>\n      <td>1</td>\n      <td>0</td>\n      <td>-1</td>\n      <td>1</td>\n      <td>0</td>\n      <td>-1</td>\n      <td>-1</td>\n      <td>0</td>\n      <td>0</td>\n      <td>0</td>\n    </tr>\n    <tr>\n      <th>13</th>\n      <td>1</td>\n      <td>-1</td>\n      <td>-1</td>\n      <td>1</td>\n      <td>-1</td>\n      <td>0</td>\n      <td>0</td>\n      <td>0</td>\n      <td>0</td>\n      <td>0</td>\n      <td>...</td>\n      <td>0</td>\n      <td>1</td>\n      <td>-1</td>\n      <td>-1</td>\n      <td>-1</td>\n      <td>1</td>\n      <td>0</td>\n      <td>0</td>\n      <td>0</td>\n      <td>1</td>\n    </tr>\n    <tr>\n      <th>14</th>\n      <td>1</td>\n      <td>1</td>\n      <td>0</td>\n      <td>0</td>\n      <td>1</td>\n      <td>-1</td>\n      <td>0</td>\n      <td>1</td>\n      <td>-1</td>\n      <td>-1</td>\n      <td>...</td>\n      <td>0</td>\n      <td>-1</td>\n      <td>-1</td>\n      <td>-1</td>\n      <td>0</td>\n      <td>0</td>\n      <td>-1</td>\n      <td>0</td>\n      <td>0</td>\n      <td>1</td>\n    </tr>\n    <tr>\n      <th>15</th>\n      <td>1</td>\n      <td>-1</td>\n      <td>0</td>\n      <td>0</td>\n      <td>0</td>\n      <td>0</td>\n      <td>0</td>\n      <td>-1</td>\n      <td>1</td>\n      <td>-1</td>\n      <td>...</td>\n      <td>1</td>\n      <td>1</td>\n      <td>-1</td>\n      <td>0</td>\n      <td>-1</td>\n      <td>0</td>\n      <td>1</td>\n      <td>0</td>\n      <td>1</td>\n      <td>0</td>\n    </tr>\n    <tr>\n      <th>16</th>\n      <td>1</td>\n      <td>1</td>\n      <td>0</td>\n      <td>-1</td>\n      <td>0</td>\n      <td>-1</td>\n      <td>0</td>\n      <td>0</td>\n      <td>0</td>\n      <td>1</td>\n      <td>...</td>\n      <td>1</td>\n      <td>0</td>\n      <td>1</td>\n      <td>1</td>\n      <td>1</td>\n      <td>0</td>\n      <td>1</td>\n      <td>0</td>\n      <td>0</td>\n      <td>-1</td>\n    </tr>\n    <tr>\n      <th>17</th>\n      <td>1</td>\n      <td>-1</td>\n      <td>0</td>\n      <td>-1</td>\n      <td>0</td>\n      <td>0</td>\n      <td>0</td>\n      <td>0</td>\n      <td>0</td>\n      <td>-1</td>\n      <td>...</td>\n      <td>1</td>\n      <td>-1</td>\n      <td>1</td>\n      <td>-1</td>\n      <td>0</td>\n      <td>-1</td>\n      <td>1</td>\n      <td>1</td>\n      <td>-1</td>\n      <td>1</td>\n    </tr>\n    <tr>\n      <th>18</th>\n      <td>0</td>\n      <td>1</td>\n      <td>0</td>\n      <td>-1</td>\n      <td>1</td>\n      <td>1</td>\n      <td>1</td>\n      <td>0</td>\n      <td>-1</td>\n      <td>-1</td>\n      <td>...</td>\n      <td>0</td>\n      <td>0</td>\n      <td>1</td>\n      <td>-1</td>\n      <td>1</td>\n      <td>1</td>\n      <td>0</td>\n      <td>0</td>\n      <td>0</td>\n      <td>1</td>\n    </tr>\n    <tr>\n      <th>19</th>\n      <td>1</td>\n      <td>0</td>\n      <td>0</td>\n      <td>-1</td>\n      <td>-1</td>\n      <td>1</td>\n      <td>0</td>\n      <td>-1</td>\n      <td>0</td>\n      <td>-1</td>\n      <td>...</td>\n      <td>0</td>\n      <td>0</td>\n      <td>0</td>\n      <td>0</td>\n      <td>1</td>\n      <td>0</td>\n      <td>-1</td>\n      <td>-1</td>\n      <td>-1</td>\n      <td>1</td>\n    </tr>\n    <tr>\n      <th>20</th>\n      <td>0</td>\n      <td>-1</td>\n      <td>1</td>\n      <td>0</td>\n      <td>-1</td>\n      <td>1</td>\n      <td>1</td>\n      <td>0</td>\n      <td>-1</td>\n      <td>1</td>\n      <td>...</td>\n      <td>0</td>\n      <td>1</td>\n      <td>1</td>\n      <td>0</td>\n      <td>0</td>\n      <td>0</td>\n      <td>-1</td>\n      <td>0</td>\n      <td>1</td>\n      <td>-1</td>\n    </tr>\n    <tr>\n      <th>21</th>\n      <td>-1</td>\n      <td>-1</td>\n      <td>-1</td>\n      <td>0</td>\n      <td>-1</td>\n      <td>-1</td>\n      <td>1</td>\n      <td>-1</td>\n      <td>1</td>\n      <td>1</td>\n      <td>...</td>\n      <td>-1</td>\n      <td>1</td>\n      <td>-1</td>\n      <td>1</td>\n      <td>-1</td>\n      <td>1</td>\n      <td>0</td>\n      <td>1</td>\n      <td>-1</td>\n      <td>0</td>\n    </tr>\n    <tr>\n      <th>22</th>\n      <td>-1</td>\n      <td>1</td>\n      <td>0</td>\n      <td>1</td>\n      <td>0</td>\n      <td>1</td>\n      <td>-1</td>\n      <td>-1</td>\n      <td>-1</td>\n      <td>0</td>\n      <td>...</td>\n      <td>0</td>\n      <td>1</td>\n      <td>0</td>\n      <td>0</td>\n      <td>1</td>\n      <td>1</td>\n      <td>-1</td>\n      <td>-1</td>\n      <td>1</td>\n      <td>1</td>\n    </tr>\n    <tr>\n      <th>23</th>\n      <td>-1</td>\n      <td>-1</td>\n      <td>-1</td>\n      <td>-1</td>\n      <td>1</td>\n      <td>1</td>\n      <td>0</td>\n      <td>0</td>\n      <td>1</td>\n      <td>-1</td>\n      <td>...</td>\n      <td>1</td>\n      <td>-1</td>\n      <td>1</td>\n      <td>0</td>\n      <td>1</td>\n      <td>-1</td>\n      <td>-1</td>\n      <td>1</td>\n      <td>-1</td>\n      <td>1</td>\n    </tr>\n    <tr>\n      <th>24</th>\n      <td>-1</td>\n      <td>0</td>\n      <td>0</td>\n      <td>0</td>\n      <td>0</td>\n      <td>-1</td>\n      <td>0</td>\n      <td>-1</td>\n      <td>0</td>\n      <td>0</td>\n      <td>...</td>\n      <td>0</td>\n      <td>1</td>\n      <td>-1</td>\n      <td>-1</td>\n      <td>1</td>\n      <td>1</td>\n      <td>-1</td>\n      <td>-1</td>\n      <td>1</td>\n      <td>0</td>\n    </tr>\n    <tr>\n      <th>25</th>\n      <td>1</td>\n      <td>-1</td>\n      <td>-1</td>\n      <td>1</td>\n      <td>-1</td>\n      <td>-1</td>\n      <td>0</td>\n      <td>0</td>\n      <td>-1</td>\n      <td>0</td>\n      <td>...</td>\n      <td>-1</td>\n      <td>-1</td>\n      <td>-1</td>\n      <td>0</td>\n      <td>-1</td>\n      <td>1</td>\n      <td>1</td>\n      <td>-1</td>\n      <td>1</td>\n      <td>0</td>\n    </tr>\n    <tr>\n      <th>26</th>\n      <td>-1</td>\n      <td>-1</td>\n      <td>0</td>\n      <td>0</td>\n      <td>-1</td>\n      <td>-1</td>\n      <td>1</td>\n      <td>1</td>\n      <td>0</td>\n      <td>-1</td>\n      <td>...</td>\n      <td>-1</td>\n      <td>1</td>\n      <td>1</td>\n      <td>-1</td>\n      <td>-1</td>\n      <td>-1</td>\n      <td>1</td>\n      <td>1</td>\n      <td>0</td>\n      <td>1</td>\n    </tr>\n    <tr>\n      <th>27</th>\n      <td>-1</td>\n      <td>-1</td>\n      <td>0</td>\n      <td>1</td>\n      <td>0</td>\n      <td>0</td>\n      <td>1</td>\n      <td>0</td>\n      <td>0</td>\n      <td>-1</td>\n      <td>...</td>\n      <td>1</td>\n      <td>1</td>\n      <td>-1</td>\n      <td>-1</td>\n      <td>-1</td>\n      <td>0</td>\n      <td>-1</td>\n      <td>-1</td>\n      <td>-1</td>\n      <td>1</td>\n    </tr>\n    <tr>\n      <th>28</th>\n      <td>0</td>\n      <td>0</td>\n      <td>0</td>\n      <td>-1</td>\n      <td>-1</td>\n      <td>1</td>\n      <td>1</td>\n      <td>-1</td>\n      <td>0</td>\n      <td>1</td>\n      <td>...</td>\n      <td>1</td>\n      <td>-1</td>\n      <td>-1</td>\n      <td>0</td>\n      <td>-1</td>\n      <td>-1</td>\n      <td>-1</td>\n      <td>1</td>\n      <td>-1</td>\n      <td>1</td>\n    </tr>\n    <tr>\n      <th>29</th>\n      <td>0</td>\n      <td>1</td>\n      <td>-1</td>\n      <td>0</td>\n      <td>0</td>\n      <td>-1</td>\n      <td>0</td>\n      <td>-1</td>\n      <td>0</td>\n      <td>1</td>\n      <td>...</td>\n      <td>0</td>\n      <td>0</td>\n      <td>1</td>\n      <td>-1</td>\n      <td>-1</td>\n      <td>1</td>\n      <td>1</td>\n      <td>0</td>\n      <td>0</td>\n      <td>-1</td>\n    </tr>\n    <tr>\n      <th>30</th>\n      <td>1</td>\n      <td>0</td>\n      <td>-1</td>\n      <td>-1</td>\n      <td>-1</td>\n      <td>0</td>\n      <td>-1</td>\n      <td>1</td>\n      <td>0</td>\n      <td>1</td>\n      <td>...</td>\n      <td>-1</td>\n      <td>1</td>\n      <td>0</td>\n      <td>0</td>\n      <td>1</td>\n      <td>1</td>\n      <td>0</td>\n      <td>-1</td>\n      <td>0</td>\n      <td>1</td>\n    </tr>\n    <tr>\n      <th>31</th>\n      <td>1</td>\n      <td>-1</td>\n      <td>1</td>\n      <td>0</td>\n      <td>1</td>\n      <td>-1</td>\n      <td>0</td>\n      <td>1</td>\n      <td>0</td>\n      <td>-1</td>\n      <td>...</td>\n      <td>-1</td>\n      <td>0</td>\n      <td>1</td>\n      <td>1</td>\n      <td>0</td>\n      <td>-1</td>\n      <td>0</td>\n      <td>-1</td>\n      <td>1</td>\n      <td>1</td>\n    </tr>\n    <tr>\n      <th>32</th>\n      <td>0</td>\n      <td>-1</td>\n      <td>-1</td>\n      <td>0</td>\n      <td>-1</td>\n      <td>1</td>\n      <td>-1</td>\n      <td>0</td>\n      <td>-1</td>\n      <td>1</td>\n      <td>...</td>\n      <td>-1</td>\n      <td>-1</td>\n      <td>-1</td>\n      <td>-1</td>\n      <td>0</td>\n      <td>1</td>\n      <td>-1</td>\n      <td>-1</td>\n      <td>1</td>\n      <td>0</td>\n    </tr>\n    <tr>\n      <th>33</th>\n      <td>-1</td>\n      <td>0</td>\n      <td>-1</td>\n      <td>0</td>\n      <td>1</td>\n      <td>0</td>\n      <td>0</td>\n      <td>1</td>\n      <td>0</td>\n      <td>0</td>\n      <td>...</td>\n      <td>1</td>\n      <td>0</td>\n      <td>0</td>\n      <td>-1</td>\n      <td>1</td>\n      <td>1</td>\n      <td>0</td>\n      <td>1</td>\n      <td>-1</td>\n      <td>-1</td>\n    </tr>\n    <tr>\n      <th>34</th>\n      <td>1</td>\n      <td>-1</td>\n      <td>1</td>\n      <td>1</td>\n      <td>1</td>\n      <td>1</td>\n      <td>1</td>\n      <td>1</td>\n      <td>1</td>\n      <td>-1</td>\n      <td>...</td>\n      <td>-1</td>\n      <td>-1</td>\n      <td>-1</td>\n      <td>1</td>\n      <td>0</td>\n      <td>-1</td>\n      <td>1</td>\n      <td>0</td>\n      <td>1</td>\n      <td>0</td>\n    </tr>\n    <tr>\n      <th>35</th>\n      <td>0</td>\n      <td>1</td>\n      <td>1</td>\n      <td>0</td>\n      <td>0</td>\n      <td>-1</td>\n      <td>0</td>\n      <td>1</td>\n      <td>0</td>\n      <td>-1</td>\n      <td>...</td>\n      <td>1</td>\n      <td>1</td>\n      <td>1</td>\n      <td>0</td>\n      <td>1</td>\n      <td>-1</td>\n      <td>-1</td>\n      <td>-1</td>\n      <td>-1</td>\n      <td>-1</td>\n    </tr>\n    <tr>\n      <th>36</th>\n      <td>0</td>\n      <td>1</td>\n      <td>-1</td>\n      <td>-1</td>\n      <td>0</td>\n      <td>0</td>\n      <td>1</td>\n      <td>-1</td>\n      <td>-1</td>\n      <td>1</td>\n      <td>...</td>\n      <td>-1</td>\n      <td>0</td>\n      <td>-1</td>\n      <td>1</td>\n      <td>1</td>\n      <td>-1</td>\n      <td>-1</td>\n      <td>0</td>\n      <td>-1</td>\n      <td>1</td>\n    </tr>\n    <tr>\n      <th>37</th>\n      <td>-1</td>\n      <td>1</td>\n      <td>-1</td>\n      <td>-1</td>\n      <td>-1</td>\n      <td>1</td>\n      <td>0</td>\n      <td>1</td>\n      <td>0</td>\n      <td>-1</td>\n      <td>...</td>\n      <td>0</td>\n      <td>1</td>\n      <td>-1</td>\n      <td>-1</td>\n      <td>1</td>\n      <td>-1</td>\n      <td>1</td>\n      <td>0</td>\n      <td>0</td>\n      <td>-1</td>\n    </tr>\n    <tr>\n      <th>38</th>\n      <td>1</td>\n      <td>1</td>\n      <td>1</td>\n      <td>1</td>\n      <td>0</td>\n      <td>-1</td>\n      <td>0</td>\n      <td>1</td>\n      <td>0</td>\n      <td>0</td>\n      <td>...</td>\n      <td>0</td>\n      <td>1</td>\n      <td>1</td>\n      <td>0</td>\n      <td>-1</td>\n      <td>0</td>\n      <td>1</td>\n      <td>-1</td>\n      <td>0</td>\n      <td>-1</td>\n    </tr>\n    <tr>\n      <th>39</th>\n      <td>1</td>\n      <td>-1</td>\n      <td>-1</td>\n      <td>1</td>\n      <td>-1</td>\n      <td>0</td>\n      <td>1</td>\n      <td>1</td>\n      <td>0</td>\n      <td>0</td>\n      <td>...</td>\n      <td>-1</td>\n      <td>-1</td>\n      <td>-1</td>\n      <td>-1</td>\n      <td>-1</td>\n      <td>-1</td>\n      <td>-1</td>\n      <td>0</td>\n      <td>1</td>\n      <td>0</td>\n    </tr>\n    <tr>\n      <th>40</th>\n      <td>1</td>\n      <td>0</td>\n      <td>0</td>\n      <td>1</td>\n      <td>1</td>\n      <td>0</td>\n      <td>1</td>\n      <td>1</td>\n      <td>1</td>\n      <td>1</td>\n      <td>...</td>\n      <td>1</td>\n      <td>1</td>\n      <td>1</td>\n      <td>0</td>\n      <td>-1</td>\n      <td>0</td>\n      <td>0</td>\n      <td>0</td>\n      <td>-1</td>\n      <td>1</td>\n    </tr>\n    <tr>\n      <th>41</th>\n      <td>-1</td>\n      <td>-1</td>\n      <td>0</td>\n      <td>-1</td>\n      <td>1</td>\n      <td>1</td>\n      <td>-1</td>\n      <td>-1</td>\n      <td>0</td>\n      <td>0</td>\n      <td>...</td>\n      <td>-1</td>\n      <td>0</td>\n      <td>0</td>\n      <td>0</td>\n      <td>-1</td>\n      <td>-1</td>\n      <td>-1</td>\n      <td>1</td>\n      <td>0</td>\n      <td>0</td>\n    </tr>\n    <tr>\n      <th>42</th>\n      <td>1</td>\n      <td>-1</td>\n      <td>0</td>\n      <td>0</td>\n      <td>-1</td>\n      <td>1</td>\n      <td>1</td>\n      <td>1</td>\n      <td>0</td>\n      <td>-1</td>\n      <td>...</td>\n      <td>0</td>\n      <td>0</td>\n      <td>1</td>\n      <td>-1</td>\n      <td>1</td>\n      <td>0</td>\n      <td>-1</td>\n      <td>1</td>\n      <td>-1</td>\n      <td>-1</td>\n    </tr>\n    <tr>\n      <th>43</th>\n      <td>1</td>\n      <td>1</td>\n      <td>1</td>\n      <td>-1</td>\n      <td>0</td>\n      <td>0</td>\n      <td>-1</td>\n      <td>0</td>\n      <td>1</td>\n      <td>0</td>\n      <td>...</td>\n      <td>-1</td>\n      <td>-1</td>\n      <td>1</td>\n      <td>-1</td>\n      <td>1</td>\n      <td>0</td>\n      <td>1</td>\n      <td>0</td>\n      <td>-1</td>\n      <td>1</td>\n    </tr>\n    <tr>\n      <th>44</th>\n      <td>-1</td>\n      <td>1</td>\n      <td>0</td>\n      <td>-1</td>\n      <td>0</td>\n      <td>0</td>\n      <td>1</td>\n      <td>-1</td>\n      <td>1</td>\n      <td>0</td>\n      <td>...</td>\n      <td>-1</td>\n      <td>-1</td>\n      <td>0</td>\n      <td>1</td>\n      <td>1</td>\n      <td>0</td>\n      <td>0</td>\n      <td>-1</td>\n      <td>1</td>\n      <td>-1</td>\n    </tr>\n    <tr>\n      <th>45</th>\n      <td>0</td>\n      <td>-1</td>\n      <td>-1</td>\n      <td>0</td>\n      <td>0</td>\n      <td>0</td>\n      <td>1</td>\n      <td>0</td>\n      <td>-1</td>\n      <td>-1</td>\n      <td>...</td>\n      <td>0</td>\n      <td>0</td>\n      <td>1</td>\n      <td>1</td>\n      <td>1</td>\n      <td>1</td>\n      <td>1</td>\n      <td>0</td>\n      <td>-1</td>\n      <td>0</td>\n    </tr>\n    <tr>\n      <th>46</th>\n      <td>-1</td>\n      <td>1</td>\n      <td>0</td>\n      <td>0</td>\n      <td>-1</td>\n      <td>-1</td>\n      <td>1</td>\n      <td>-1</td>\n      <td>1</td>\n      <td>0</td>\n      <td>...</td>\n      <td>1</td>\n      <td>0</td>\n      <td>-1</td>\n      <td>1</td>\n      <td>1</td>\n      <td>-1</td>\n      <td>-1</td>\n      <td>1</td>\n      <td>-1</td>\n      <td>-1</td>\n    </tr>\n    <tr>\n      <th>47</th>\n      <td>-1</td>\n      <td>0</td>\n      <td>-1</td>\n      <td>-1</td>\n      <td>1</td>\n      <td>0</td>\n      <td>0</td>\n      <td>1</td>\n      <td>-1</td>\n      <td>1</td>\n      <td>...</td>\n      <td>0</td>\n      <td>0</td>\n      <td>0</td>\n      <td>0</td>\n      <td>0</td>\n      <td>0</td>\n      <td>-1</td>\n      <td>-1</td>\n      <td>-1</td>\n      <td>-1</td>\n    </tr>\n    <tr>\n      <th>48</th>\n      <td>0</td>\n      <td>-1</td>\n      <td>0</td>\n      <td>1</td>\n      <td>-1</td>\n      <td>0</td>\n      <td>1</td>\n      <td>0</td>\n      <td>1</td>\n      <td>-1</td>\n      <td>...</td>\n      <td>1</td>\n      <td>1</td>\n      <td>1</td>\n      <td>0</td>\n      <td>0</td>\n      <td>0</td>\n      <td>1</td>\n      <td>1</td>\n      <td>-1</td>\n      <td>-1</td>\n    </tr>\n    <tr>\n      <th>49</th>\n      <td>0</td>\n      <td>1</td>\n      <td>0</td>\n      <td>1</td>\n      <td>1</td>\n      <td>0</td>\n      <td>1</td>\n      <td>1</td>\n      <td>1</td>\n      <td>-1</td>\n      <td>...</td>\n      <td>1</td>\n      <td>1</td>\n      <td>1</td>\n      <td>-1</td>\n      <td>0</td>\n      <td>0</td>\n      <td>0</td>\n      <td>1</td>\n      <td>0</td>\n      <td>1</td>\n    </tr>\n  </tbody>\n</table>\n<p>50 rows × 22753 columns</p>\n</div>"
          },
          "metadata": {},
          "execution_count": 29
        }
      ],
      "source": [
        "trial_user_rating_df"
      ]
    },
    {
      "cell_type": "code",
      "execution_count": null,
      "metadata": {
        "ExecuteTime": {
          "end_time": "2021-04-05T13:32:46.507659Z",
          "start_time": "2021-04-05T13:32:46.175852Z"
        },
        "id": "z3i8jzNhwFLg",
        "outputId": "47c5c13d-e76f-46d1-e081-7d6887d6bff4"
      },
      "outputs": [
        {
          "output_type": "execute_result",
          "data": {
            "text/plain": [
              "                                      _id             Datetime       Category  \\\n",
              "clu_idx art_idx                                                                 \n",
              "1       4552     606b29323c6b2f2a08ab2a88  2021-03-19 17:45:00  Entertainment   \n",
              "4       2787     606b29323c6b2f2a08ab2a21  2021-03-19 15:31:00       Business   \n",
              "2       4356     606b29313c6b2f2a08ab1ecd  2021-03-17 16:46:00         Sports   \n",
              "3       3860     606b29313c6b2f2a08ab222f  2021-03-17 15:46:00     Technology   \n",
              "6       1605     606b29313c6b2f2a08ab0c25  2021-03-17 15:04:00          India   \n",
              "5       1797     606b29313c6b2f2a08ab12f6  2021-03-17 17:58:00          World   \n",
              "9       473      606b29303c6b2f2a08ab0193  2021-03-17 10:24:00      Lifestyle   \n",
              "10      1720     606b29303c6b2f2a08ab07d6  2021-03-16 15:55:00  Miscellaneous   \n",
              "8       696      606b29303c6b2f2a08ab04a2  2021-03-16 11:36:00      Education   \n",
              "7       774      606b292f3c6b2f2a08aae381  2021-03-13 01:47:00        Society   \n",
              "\n",
              "                            Subcategory  \\\n",
              "clu_idx art_idx                           \n",
              "1       4552                  bollywood   \n",
              "4       2787                     latest   \n",
              "2       4356               Other-sports   \n",
              "3       3860                     Mobile   \n",
              "6       1605                  Education   \n",
              "5       1797     Rest-of-the-world-news   \n",
              "9       473                   Celebrity   \n",
              "10      1720               New-launches   \n",
              "8       696                Notification   \n",
              "7       774                    politics   \n",
              "\n",
              "                                                          Headline  \\\n",
              "clu_idx art_idx                                                      \n",
              "1       4552     Popular Opinion: Who Cares About \"Real Or Fake...   \n",
              "4       2787     Aarti Drugs Rallies After Board Approves Rs 60...   \n",
              "2       4356     Von Miller Net Worth, NFL 2021 Salary And Late...   \n",
              "3       3860     Samsung Brings Android 11 And One UI 3.1 Updat...   \n",
              "6       1605     NHM MP Recruitment 2021: Apply Now For 102 Vac...   \n",
              "5       1797      Blinken Meets SKorean Counterpart Chung Eui-yong   \n",
              "9       473      Milind Soman shares loved-up selfie with Ankit...   \n",
              "10      1720     2021 Bentley Bentayga launched in India, price...   \n",
              "8       696      NIOS Class 10, 12 results announced, check det...   \n",
              "7       774      Kerala Polls: First ever woman candidate of IU...   \n",
              "\n",
              "                                                           Summary  \\\n",
              "clu_idx art_idx                                                      \n",
              "1       4552                    We sort of agree with the Internet   \n",
              "4       2787     Aarti Drugs share buyback price of Rs 1,000 is...   \n",
              "2       4356     Von Miller net worth: According to sources, th...   \n",
              "3       3860     Samsung is one of the biggest Android smartpho...   \n",
              "6       1605     The National Health Mission of Madhya Pradesh ...   \n",
              "5       1797     Fresh off a stop in Tokyo, President Joe Biden...   \n",
              "9       473      Ankita Konwar recently shared that she went fo...   \n",
              "10      1720     The new Bentayga is the first car launched und...   \n",
              "8       696      NIOS has declared the results for the public e...   \n",
              "7       774      As per a study conducted by Inter-Parliamentar...   \n",
              "\n",
              "                                                       Entire_News  \\\n",
              "clu_idx art_idx                                                      \n",
              "1       4552     A thought that caught Hrithik Roshan's attenti...   \n",
              "4       2787     Shares of drug maker Aarti Druges rose as much...   \n",
              "2       4356     The Denver Broncos will apparently be exercisi...   \n",
              "3       3860     Samsung is one of the most reliable and popula...   \n",
              "6       1605     NHM MP Recruitment: The National Health Missio...   \n",
              "5       1797     Fresh off a stop in Tokyo, President Joe Biden...   \n",
              "9       473      Ankita Konwar and Milind Soman never take thei...   \n",
              "10      1720     Bentley has been at the forefront of luxury au...   \n",
              "8       696      The National Institute of Open Schooling (NIOS...   \n",
              "7       774      It took Indian Union Muslim League (IUML) 25 y...   \n",
              "\n",
              "                                                           Author  \\\n",
              "clu_idx art_idx                                                     \n",
              "1       4552                                      Pranita Chaubey   \n",
              "4       2787                                     Abhishek Vasudev   \n",
              "2       4356                         Devika pawar                   \n",
              "3       3860                    Sakshat kolhatkar                   \n",
              "6       1605                        Disha kandpal                   \n",
              "5       1797     Associated press television news                   \n",
              "9       473                                 Krishna priya pallavi   \n",
              "10      1720                                       Pratik rakshit   \n",
              "8       696                                  India today web desk   \n",
              "7       774                                      Manpriya Khurana   \n",
              "\n",
              "                                                         News_Link  Mean_Time  \\\n",
              "clu_idx art_idx                                                                 \n",
              "1       4552     https://www.ndtv.com/entertainment/popular-opi...          8   \n",
              "4       2787     https://www.ndtv.com/business/aarti-drugs-shar...         29   \n",
              "2       4356     https://www.republicworld.com/sports-news/othe...         37   \n",
              "3       3860     https://www.republicworld.com/technology-news/...         37   \n",
              "6       1605     https://www.republicworld.com/india-news/educa...         39   \n",
              "5       1797     https://www.republicworld.com/world-news/rest-...         68   \n",
              "9       473      https://www.indiatoday.in/lifestyle/celebrity/...         44   \n",
              "10      1720     https://www.indiatoday.in/auto/new-launches/st...         45   \n",
              "8       696      https://www.indiatoday.in/education-today/noti...         43   \n",
              "7       774      https://www.ibtimes.co.in/kerala-polls-first-e...         49   \n",
              "\n",
              "                article_idx  \n",
              "clu_idx art_idx              \n",
              "1       4552       En_22511  \n",
              "4       2787       Bu_22408  \n",
              "2       4356       Sp_19508  \n",
              "3       3860       Te_20374  \n",
              "6       1605       In_14732  \n",
              "5       1797       Wo_16477  \n",
              "9       473        Li_12026  \n",
              "10      1720       Au_13629  \n",
              "8       696        Ed_12809  \n",
              "7       774         So_4328  "
            ],
            "text/html": "<div>\n<style scoped>\n    .dataframe tbody tr th:only-of-type {\n        vertical-align: middle;\n    }\n\n    .dataframe tbody tr th {\n        vertical-align: top;\n    }\n\n    .dataframe thead th {\n        text-align: right;\n    }\n</style>\n<table border=\"1\" class=\"dataframe\">\n  <thead>\n    <tr style=\"text-align: right;\">\n      <th></th>\n      <th></th>\n      <th>_id</th>\n      <th>Datetime</th>\n      <th>Category</th>\n      <th>Subcategory</th>\n      <th>Headline</th>\n      <th>Summary</th>\n      <th>Entire_News</th>\n      <th>Author</th>\n      <th>News_Link</th>\n      <th>Mean_Time</th>\n      <th>article_idx</th>\n    </tr>\n    <tr>\n      <th>clu_idx</th>\n      <th>art_idx</th>\n      <th></th>\n      <th></th>\n      <th></th>\n      <th></th>\n      <th></th>\n      <th></th>\n      <th></th>\n      <th></th>\n      <th></th>\n      <th></th>\n      <th></th>\n    </tr>\n  </thead>\n  <tbody>\n    <tr>\n      <th>1</th>\n      <th>4552</th>\n      <td>606b29323c6b2f2a08ab2a88</td>\n      <td>2021-03-19 17:45:00</td>\n      <td>Entertainment</td>\n      <td>bollywood</td>\n      <td>Popular Opinion: Who Cares About \"Real Or Fake...</td>\n      <td>We sort of agree with the Internet</td>\n      <td>A thought that caught Hrithik Roshan's attenti...</td>\n      <td>Pranita Chaubey</td>\n      <td>https://www.ndtv.com/entertainment/popular-opi...</td>\n      <td>8</td>\n      <td>En_22511</td>\n    </tr>\n    <tr>\n      <th>4</th>\n      <th>2787</th>\n      <td>606b29323c6b2f2a08ab2a21</td>\n      <td>2021-03-19 15:31:00</td>\n      <td>Business</td>\n      <td>latest</td>\n      <td>Aarti Drugs Rallies After Board Approves Rs 60...</td>\n      <td>Aarti Drugs share buyback price of Rs 1,000 is...</td>\n      <td>Shares of drug maker Aarti Druges rose as much...</td>\n      <td>Abhishek Vasudev</td>\n      <td>https://www.ndtv.com/business/aarti-drugs-shar...</td>\n      <td>29</td>\n      <td>Bu_22408</td>\n    </tr>\n    <tr>\n      <th>2</th>\n      <th>4356</th>\n      <td>606b29313c6b2f2a08ab1ecd</td>\n      <td>2021-03-17 16:46:00</td>\n      <td>Sports</td>\n      <td>Other-sports</td>\n      <td>Von Miller Net Worth, NFL 2021 Salary And Late...</td>\n      <td>Von Miller net worth: According to sources, th...</td>\n      <td>The Denver Broncos will apparently be exercisi...</td>\n      <td>Devika pawar</td>\n      <td>https://www.republicworld.com/sports-news/othe...</td>\n      <td>37</td>\n      <td>Sp_19508</td>\n    </tr>\n    <tr>\n      <th>3</th>\n      <th>3860</th>\n      <td>606b29313c6b2f2a08ab222f</td>\n      <td>2021-03-17 15:46:00</td>\n      <td>Technology</td>\n      <td>Mobile</td>\n      <td>Samsung Brings Android 11 And One UI 3.1 Updat...</td>\n      <td>Samsung is one of the biggest Android smartpho...</td>\n      <td>Samsung is one of the most reliable and popula...</td>\n      <td>Sakshat kolhatkar</td>\n      <td>https://www.republicworld.com/technology-news/...</td>\n      <td>37</td>\n      <td>Te_20374</td>\n    </tr>\n    <tr>\n      <th>6</th>\n      <th>1605</th>\n      <td>606b29313c6b2f2a08ab0c25</td>\n      <td>2021-03-17 15:04:00</td>\n      <td>India</td>\n      <td>Education</td>\n      <td>NHM MP Recruitment 2021: Apply Now For 102 Vac...</td>\n      <td>The National Health Mission of Madhya Pradesh ...</td>\n      <td>NHM MP Recruitment: The National Health Missio...</td>\n      <td>Disha kandpal</td>\n      <td>https://www.republicworld.com/india-news/educa...</td>\n      <td>39</td>\n      <td>In_14732</td>\n    </tr>\n    <tr>\n      <th>5</th>\n      <th>1797</th>\n      <td>606b29313c6b2f2a08ab12f6</td>\n      <td>2021-03-17 17:58:00</td>\n      <td>World</td>\n      <td>Rest-of-the-world-news</td>\n      <td>Blinken Meets SKorean Counterpart Chung Eui-yong</td>\n      <td>Fresh off a stop in Tokyo, President Joe Biden...</td>\n      <td>Fresh off a stop in Tokyo, President Joe Biden...</td>\n      <td>Associated press television news</td>\n      <td>https://www.republicworld.com/world-news/rest-...</td>\n      <td>68</td>\n      <td>Wo_16477</td>\n    </tr>\n    <tr>\n      <th>9</th>\n      <th>473</th>\n      <td>606b29303c6b2f2a08ab0193</td>\n      <td>2021-03-17 10:24:00</td>\n      <td>Lifestyle</td>\n      <td>Celebrity</td>\n      <td>Milind Soman shares loved-up selfie with Ankit...</td>\n      <td>Ankita Konwar recently shared that she went fo...</td>\n      <td>Ankita Konwar and Milind Soman never take thei...</td>\n      <td>Krishna priya pallavi</td>\n      <td>https://www.indiatoday.in/lifestyle/celebrity/...</td>\n      <td>44</td>\n      <td>Li_12026</td>\n    </tr>\n    <tr>\n      <th>10</th>\n      <th>1720</th>\n      <td>606b29303c6b2f2a08ab07d6</td>\n      <td>2021-03-16 15:55:00</td>\n      <td>Miscellaneous</td>\n      <td>New-launches</td>\n      <td>2021 Bentley Bentayga launched in India, price...</td>\n      <td>The new Bentayga is the first car launched und...</td>\n      <td>Bentley has been at the forefront of luxury au...</td>\n      <td>Pratik rakshit</td>\n      <td>https://www.indiatoday.in/auto/new-launches/st...</td>\n      <td>45</td>\n      <td>Au_13629</td>\n    </tr>\n    <tr>\n      <th>8</th>\n      <th>696</th>\n      <td>606b29303c6b2f2a08ab04a2</td>\n      <td>2021-03-16 11:36:00</td>\n      <td>Education</td>\n      <td>Notification</td>\n      <td>NIOS Class 10, 12 results announced, check det...</td>\n      <td>NIOS has declared the results for the public e...</td>\n      <td>The National Institute of Open Schooling (NIOS...</td>\n      <td>India today web desk</td>\n      <td>https://www.indiatoday.in/education-today/noti...</td>\n      <td>43</td>\n      <td>Ed_12809</td>\n    </tr>\n    <tr>\n      <th>7</th>\n      <th>774</th>\n      <td>606b292f3c6b2f2a08aae381</td>\n      <td>2021-03-13 01:47:00</td>\n      <td>Society</td>\n      <td>politics</td>\n      <td>Kerala Polls: First ever woman candidate of IU...</td>\n      <td>As per a study conducted by Inter-Parliamentar...</td>\n      <td>It took Indian Union Muslim League (IUML) 25 y...</td>\n      <td>Manpriya Khurana</td>\n      <td>https://www.ibtimes.co.in/kerala-polls-first-e...</td>\n      <td>49</td>\n      <td>So_4328</td>\n    </tr>\n  </tbody>\n</table>\n</div>"
          },
          "metadata": {},
          "execution_count": 44
        }
      ],
      "source": [
        "reform_corpus_df.loc[bot1baseScoring(reform_corpus_df, trial_user_rating_df)]\n"
      ]
    },
    {
      "cell_type": "code",
      "execution_count": null,
      "metadata": {
        "id": "SgSzQtWGwFLi"
      },
      "outputs": [],
      "source": [
        ""
      ]
    }
  ],
  "metadata": {
    "kernelspec": {
      "name": "python387jvsc74a57bd045afea9d2ed0988aed1c73453533b909065964733693ec61eee7c05099e56ee3",
      "display_name": "Python 3.8.7 64-bit"
    },
    "language_info": {
      "codemirror_mode": {
        "name": "ipython",
        "version": 3
      },
      "file_extension": ".py",
      "mimetype": "text/x-python",
      "name": "python",
      "nbconvert_exporter": "python",
      "pygments_lexer": "ipython3",
      "version": "3.8.7"
    },
    "metadata": {
      "interpreter": {
        "hash": "45afea9d2ed0988aed1c73453533b909065964733693ec61eee7c05099e56ee3"
      }
    },
    "colab": {
      "name": "Bot-1 (New-User Bot).ipynb",
      "provenance": []
    }
  },
  "nbformat": 4,
  "nbformat_minor": 0
}